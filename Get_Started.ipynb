{
  "nbformat": 4,
  "nbformat_minor": 0,
  "metadata": {
    "colab": {
      "provenance": []
    },
    "kernelspec": {
      "name": "python3",
      "display_name": "Python 3"
    },
    "language_info": {
      "name": "python"
    }
  },
  "cells": [
    {
      "cell_type": "markdown",
      "source": [
        "[![Open in Colab](https://colab.research.google.com/assets/colab-badge.svg)](https://colab.research.google.com/drive/14SCxXhtTBATahugg3EprYhrqpgpeimKc#scrollTo=WxPp0h60r8o9)"
      ],
      "metadata": {
        "id": "WxPp0h60r8o9"
      }
    },
    {
      "cell_type": "markdown",
      "metadata": {
        "id": "Dl8_7PEz4soy"
      },
      "source": [
        "## **Get Started**"
      ]
    },
    {
      "cell_type": "markdown",
      "metadata": {
        "id": "MxJi5fuQ5jQX"
      },
      "source": [
        "To get started, set up your environment. All the resources you need are available on **Google Drive**:  \n",
        "- 🗂️ **Datasets** for flower classification and recommendations\n",
        "- 💾 **Saved models** for the flower classifier  \n",
        "- 📑 **Notebooks** for experiments and workflows\n",
        "\n",
        "Visit the [repository](https://github.com/Hiba-Chaabnia/FlowerLover) for project files, except the datasets and pre-trained models due to GitHub upload limits.\n",
        "\n",
        "⭐ Don’t forget to star the repository to stay updated with new features and tutorials!  "
      ]
    },
    {
      "cell_type": "markdown",
      "source": [
        "To proceed with the project, follow these steps:\n",
        "\n",
        "1. Open the [Google Drive folder](https://drive.google.com/drive/u/0/folders/168E2L-SF8RrSwjkAbO5ENki4J_jsZQDg) containing the project materials.\n",
        "\n",
        "2. Locate the **FlowerLover.zip** file, right-click on it, and select **Make a Copy**.\n",
        "Note the file name and its location in your Drive.\n",
        "\n",
        "3. Once copied, mount your Google Drive and proceed by running the following cell to get started:\n",
        "\n"
      ],
      "metadata": {
        "id": "7UqPPETf_S8D"
      }
    },
    {
      "cell_type": "code",
      "execution_count": null,
      "metadata": {
        "colab": {
          "base_uri": "https://localhost:8080/"
        },
        "id": "llKA_35Z4L-I",
        "outputId": "1ec2a5b7-0777-4e11-c9a1-d4b43563d691"
      },
      "outputs": [
        {
          "output_type": "stream",
          "name": "stdout",
          "text": [
            "Mounted at /content/drive\n"
          ]
        }
      ],
      "source": [
        "from google.colab import drive\n",
        "drive.mount('/content/drive')"
      ]
    },
    {
      "cell_type": "markdown",
      "metadata": {
        "id": "4R1m4rzV6wFn"
      },
      "source": [
        "Now that we have our Google Drive connected, let's move into the tutorial's directory (where you saved the zip file)."
      ]
    },
    {
      "cell_type": "code",
      "execution_count": null,
      "metadata": {
        "id": "1O2nppbA6vef"
      },
      "outputs": [],
      "source": [
        " # your path to the `FlowerLover.zip`\n",
        "%cd '/content/drive/MyDrive/'\n",
        "%ls"
      ]
    },
    {
      "cell_type": "markdown",
      "source": [
        "Unzip the folder"
      ],
      "metadata": {
        "id": "CosHPiK45ACH"
      }
    },
    {
      "cell_type": "code",
      "source": [
        "! unzip 'FlowerLover.zip'\n",
        "! ls"
      ],
      "metadata": {
        "id": "p2E2kuEg5Bav"
      },
      "execution_count": null,
      "outputs": []
    },
    {
      "cell_type": "markdown",
      "source": [
        "Move to the tutorial folder"
      ],
      "metadata": {
        "id": "JnP3gUwS5KCb"
      }
    },
    {
      "cell_type": "code",
      "source": [
        "%cd 'FlowerLover'"
      ],
      "metadata": {
        "id": "eJNNyTWV5JFB"
      },
      "execution_count": null,
      "outputs": []
    }
  ]
}