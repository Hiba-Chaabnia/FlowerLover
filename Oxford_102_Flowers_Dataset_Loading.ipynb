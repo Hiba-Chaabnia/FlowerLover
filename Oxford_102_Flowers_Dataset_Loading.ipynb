{
  "cells": [
    {
      "cell_type": "markdown",
      "source": [
        "[![Open in Colab](https://colab.research.google.com/assets/colab-badge.svg)](https://colab.research.google.com/drive/1v-Wzfp2enPsXTZ_8a52BQzRNbUdJpqyu#scrollTo=l4kTZMWbr0Me)"
      ],
      "metadata": {
        "id": "l4kTZMWbr0Me"
      }
    },
    {
      "cell_type": "markdown",
      "source": [
        "# **Oxford 102 Flowers Dataset Loading**"
      ],
      "metadata": {
        "id": "p9yUh-CMKmPt"
      }
    },
    {
      "cell_type": "markdown",
      "metadata": {
        "id": "5yEt1zzyIt-b"
      },
      "source": [
        "## 00. Dataset Description 🌼📚"
      ]
    },
    {
      "cell_type": "markdown",
      "metadata": {
        "id": "LOcTe111It-c"
      },
      "source": [
        "For the image classifier module of this project, we are using the **Oxford Flowers 102** dataset, which contains 102 flower categories commonly found in the UK. Each class includes between **40 and 258 images**.\n",
        "\n",
        "The images exhibit **variations in scale, pose, and lighting**. Additionally, some categories display significant intra-class variation, while others are visually similar, making the classification task more challenging.\n",
        "\n",
        "🌺 Flower Species included:\n",
        "<br>\n",
        "<br>\n",
        "\n",
        "![Flower Species](https://drive.google.com/uc?export=view&id=16V6Bo3L1_HLN4O8CZz5ik4F9Qkz_YUL6)\n",
        "\n"
      ]
    },
    {
      "cell_type": "markdown",
      "source": [
        "## 01. Enviroment Setup 🛠️💻\n",
        "\n",
        "⚠️ If you followed the instructions in the `Get Started.ipynb` notebook, you  should already find a copy of the **Oxford Flowers 102** dataset in the `FlowerLover` folder under the `flowers` directory. If that's the case, there is no need to run the cells below.\n",
        "\n",
        "If not, open the Google Drive folder [here](#) to access all materials, and follow the instructions in the `Get Started.ipynb` notebook ."
      ],
      "metadata": {
        "id": "BFABsrsVTy3Z"
      }
    },
    {
      "cell_type": "markdown",
      "source": [
        "🔌Mount your drive to access project files"
      ],
      "metadata": {
        "id": "w9KDT4yCWipn"
      }
    },
    {
      "cell_type": "code",
      "source": [
        "from google.colab import drive\n",
        "drive.mount('/content/drive')"
      ],
      "metadata": {
        "colab": {
          "base_uri": "https://localhost:8080/"
        },
        "id": "mwMLlw44rXmV",
        "outputId": "e54e14a4-2bf9-41a6-e859-4b69b9bd5001"
      },
      "execution_count": null,
      "outputs": [
        {
          "output_type": "stream",
          "name": "stdout",
          "text": [
            "Mounted at /content/drive\n"
          ]
        }
      ]
    },
    {
      "cell_type": "markdown",
      "source": [
        "📂 Now, browse to the working directory"
      ],
      "metadata": {
        "id": "qucOOfcPr3Dl"
      }
    },
    {
      "cell_type": "code",
      "source": [
        "# Your path to FlowerLover\n",
        "%cd '/content/drive/MyDrive/FlowerLover/'"
      ],
      "metadata": {
        "colab": {
          "base_uri": "https://localhost:8080/"
        },
        "id": "4oEAkV8SsSyo",
        "outputId": "d1084209-c96a-4f79-e1fe-881512196bab"
      },
      "execution_count": null,
      "outputs": [
        {
          "output_type": "stream",
          "name": "stdout",
          "text": [
            "/content/drive/MyDrive/FlowerLover\n"
          ]
        }
      ]
    },
    {
      "cell_type": "markdown",
      "source": [
        "📦 Install and import essential libraries"
      ],
      "metadata": {
        "id": "-3S_D0zOtvU7"
      }
    },
    {
      "cell_type": "code",
      "source": [
        "!pip install requests"
      ],
      "metadata": {
        "colab": {
          "base_uri": "https://localhost:8080/"
        },
        "id": "YVePtJkNtqzb",
        "outputId": "91ce60bf-ed8e-4009-8022-947ddb0e3acf"
      },
      "execution_count": null,
      "outputs": [
        {
          "output_type": "stream",
          "name": "stdout",
          "text": [
            "Requirement already satisfied: requests in /usr/local/lib/python3.10/dist-packages (2.32.3)\n",
            "Requirement already satisfied: charset-normalizer<4,>=2 in /usr/local/lib/python3.10/dist-packages (from requests) (3.4.0)\n",
            "Requirement already satisfied: idna<4,>=2.5 in /usr/local/lib/python3.10/dist-packages (from requests) (3.10)\n",
            "Requirement already satisfied: urllib3<3,>=1.21.1 in /usr/local/lib/python3.10/dist-packages (from requests) (2.2.3)\n",
            "Requirement already satisfied: certifi>=2017.4.17 in /usr/local/lib/python3.10/dist-packages (from requests) (2024.12.14)\n"
          ]
        }
      ]
    },
    {
      "cell_type": "code",
      "source": [
        "import requests\n",
        "import tarfile\n",
        "import os\n",
        "import shutil"
      ],
      "metadata": {
        "id": "dnsAQrcvts4X"
      },
      "execution_count": null,
      "outputs": []
    },
    {
      "cell_type": "markdown",
      "metadata": {
        "id": "s_KJqOiHIt-d"
      },
      "source": [
        " ## 02. Dataset Download 📥🗂️"
      ]
    },
    {
      "cell_type": "code",
      "execution_count": null,
      "metadata": {
        "id": "HP_6-dCuIt-e",
        "outputId": "a9d76855-2c13-4489-e871-6116bcc24ac7",
        "colab": {
          "base_uri": "https://localhost:8080/"
        }
      },
      "outputs": [
        {
          "output_type": "stream",
          "name": "stdout",
          "text": [
            "Removed existing flowers folder/file/soft link, if any.\n",
            "Created folder: flowers\n",
            "Downloading dataset...\n",
            "Downloaded flower_data.tar.gz to flowers\n",
            "Extracting files...\n",
            "Extracted flower_data.tar.gz to flowers\n",
            "Removed the downloaded tar.gz file: flowers/flower_data.tar.gz\n"
          ]
        }
      ],
      "source": [
        "# Define the Google Drive path where the dataset will be stored\n",
        "folder_name = \"flowers\"\n",
        "os.makedirs(folder_name, exist_ok=True)  # Create the directory if it doesn't exist\n",
        "\n",
        "# URL and file paths\n",
        "url = \"https://s3.amazonaws.com/content.udacity-data.com/nd089/flower_data.tar.gz\"\n",
        "file_name = \"flower_data.tar.gz\"\n",
        "file_path = os.path.join(folder_name, file_name)\n",
        "\n",
        "# Removing the folder or symbolic link if it already exists (equivalent to `rm -rf flowers`)\n",
        "try:\n",
        "    if os.path.islink(folder_name) or os.path.isfile(folder_name):\n",
        "        os.remove(folder_name)  # Remove the symbolic link or file\n",
        "    elif os.path.isdir(folder_name):\n",
        "        shutil.rmtree(folder_name)  # Remove the directory\n",
        "    print(f\"Removed existing {folder_name} folder/file/soft link, if any.\")\n",
        "except FileNotFoundError:\n",
        "    pass  # If the file or directory does not exist, do nothing\n",
        "\n",
        "# Creating the directory\n",
        "os.makedirs(folder_name)\n",
        "print(f\"Created folder: {folder_name}\")\n",
        "\n",
        "# Downloading the dataset\n",
        "print(\"Downloading dataset...\")\n",
        "response = requests.get(url, stream=True)\n",
        "\n",
        "# Saving the file in the 'flowers' folder\n",
        "with open(file_path, \"wb\") as file:\n",
        "    for chunk in response.iter_content(chunk_size=1024):\n",
        "        if chunk:\n",
        "            file.write(chunk)\n",
        "\n",
        "print(f\"Downloaded {file_name} to {folder_name}\")\n",
        "\n",
        "# Extracting the file in the 'flowers' folder\n",
        "print(\"Extracting files...\")\n",
        "if file_path.endswith(\"tar.gz\"):\n",
        "    with tarfile.open(file_path, \"r:gz\") as tar:\n",
        "        tar.extractall(path=folder_name)\n",
        "        print(f\"Extracted {file_name} to {folder_name}\")\n",
        "\n",
        "# Cleaning up by removing the tar.gz file after extraction\n",
        "os.remove(file_path)\n",
        "print(f\"Removed the downloaded tar.gz file: {file_path}\")\n"
      ]
    }
  ],
  "metadata": {
    "kernelspec": {
      "display_name": "Python 3",
      "language": "python",
      "name": "python3"
    },
    "language_info": {
      "codemirror_mode": {
        "name": "ipython",
        "version": 3
      },
      "file_extension": ".py",
      "mimetype": "text/x-python",
      "name": "python",
      "nbconvert_exporter": "python",
      "pygments_lexer": "ipython3",
      "version": "3.10.7"
    },
    "colab": {
      "provenance": []
    }
  },
  "nbformat": 4,
  "nbformat_minor": 0
}