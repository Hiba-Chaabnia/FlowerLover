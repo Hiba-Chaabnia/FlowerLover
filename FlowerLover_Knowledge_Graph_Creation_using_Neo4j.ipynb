{
  "nbformat": 4,
  "nbformat_minor": 0,
  "metadata": {
    "colab": {
      "provenance": [],
      "authorship_tag": "ABX9TyO0lGzNhBw6QU458s8zDft/"
    },
    "kernelspec": {
      "name": "python3",
      "display_name": "Python 3"
    },
    "language_info": {
      "name": "python"
    }
  },
  "cells": [
    {
      "cell_type": "markdown",
      "source": [
        "[![Open in Colab](https://colab.research.google.com/assets/colab-badge.svg)](https://colab.research.google.com/drive/1KXlDRGJ_EAenB3d4dX5PxaA6Q_HO4qph#scrollTo=vQiLdRGcsLzh)"
      ],
      "metadata": {
        "id": "vQiLdRGcsLzh"
      }
    },
    {
      "cell_type": "markdown",
      "source": [
        "# **FlowerLover Knowledge Graph Creation using Neo4j**"
      ],
      "metadata": {
        "id": "WEc6GMFqYkOh"
      }
    },
    {
      "cell_type": "markdown",
      "source": [
        "## 00. Get Started"
      ],
      "metadata": {
        "id": "kLwfCj0_fWXn"
      }
    },
    {
      "cell_type": "markdown",
      "source": [
        "### This notebook"
      ],
      "metadata": {
        "id": "Mm1oa-eafsPk"
      }
    },
    {
      "cell_type": "markdown",
      "source": [
        "By now you should already have the `FlowerLover` folder in your google drive. You just need to mount your drive executing the following line."
      ],
      "metadata": {
        "id": "txmtMPTkfwSI"
      }
    },
    {
      "cell_type": "code",
      "source": [
        "from google.colab import drive\n",
        "drive.mount('/content/drive')"
      ],
      "metadata": {
        "colab": {
          "base_uri": "https://localhost:8080/"
        },
        "id": "vb-GfDFp6S4w",
        "outputId": "ddedecfd-9bbd-4449-b711-9d3137354780"
      },
      "execution_count": null,
      "outputs": [
        {
          "output_type": "stream",
          "name": "stdout",
          "text": [
            "Drive already mounted at /content/drive; to attempt to forcibly remount, call drive.mount(\"/content/drive\", force_remount=True).\n"
          ]
        }
      ]
    },
    {
      "cell_type": "markdown",
      "source": [
        "And browse the working directory."
      ],
      "metadata": {
        "id": "bpZMrietgIZF"
      }
    },
    {
      "cell_type": "code",
      "source": [
        "# Your path to FlowerLover\n",
        "%cd '/content/drive/MyDrive/FlowerLover/'"
      ],
      "metadata": {
        "colab": {
          "base_uri": "https://localhost:8080/"
        },
        "id": "S37ou74e6Tvs",
        "outputId": "296713bc-47a5-4909-9842-783edda602de"
      },
      "execution_count": null,
      "outputs": [
        {
          "output_type": "stream",
          "name": "stdout",
          "text": [
            "/content/drive/MyDrive/FlowerLover\n"
          ]
        }
      ]
    },
    {
      "cell_type": "markdown",
      "source": [
        "### If You Joined Late\n",
        "\n",
        "No worries! 😊 Simply open the Google Drive folder [here](https://drive.google.com/drive/folders/168E2L-SF8RrSwjkAbO5ENki4J_jsZQDg?usp=drive_link) to access all the materials. Then, follow the instructions in the `Get Started.ipynb` notebook to catch up."
      ],
      "metadata": {
        "id": "x51ONpd1gYgR"
      }
    },
    {
      "cell_type": "markdown",
      "source": [
        "## 01. Introduction to Knowledge Graphs\n"
      ],
      "metadata": {
        "id": "dex-4ij9byjS"
      }
    },
    {
      "cell_type": "markdown",
      "source": [
        "A **Knowledge Graph (KG)**, represents a network of **real-world entities** — i.e., objects, events, situations, or concepts — and illustrates the **relationship between them**. This information is usually stored in **Knowledge Bases (KB)** and visualized as a graph structure, prompting the term knowledge “graph.”"
      ],
      "metadata": {
        "id": "yelX3sdsTN-8"
      }
    },
    {
      "cell_type": "markdown",
      "source": [
        "![Neo4j Graph Result](https://drive.google.com/uc?export=view&id=15Ywos_6ubouEanqmKsyZJYayd6yoFIEy)\n"
      ],
      "metadata": {
        "id": "X0FK8NeLoSGe"
      }
    },
    {
      "cell_type": "markdown",
      "source": [
        "A knowledge graph is composed by 3 main components:\n",
        "\n",
        "- 🟢 **Nodes** (Entities): Each node represents a distinct concept or object (e.g., \"Summer\", \"fire lily\", \"canterbury bells\").\n",
        "- ➡️ **Edges** (Relationships): Edges are the connections or relationships between entities (e.g., \"BLOOMS_IN\").\n",
        "- 🔖 **Properties** (Attributes): These are additional pieces of information associated with nodes and edges(e.g., \"Pet_Friendly\": \"Yes\").\n",
        "\n",
        "These components combine to form **Triplets (subject-predicate-object)**, which are the fundamental building blocks of knowledge graphs (e.g., \"fire lily\" -BLOOMS_IN-> \"Summer\").\n"
      ],
      "metadata": {
        "id": "fUjwBWI9RS7-"
      }
    },
    {
      "cell_type": "markdown",
      "source": [
        "## 02. Enviroment Setup"
      ],
      "metadata": {
        "id": "nlTZpDrSjNyt"
      }
    },
    {
      "cell_type": "markdown",
      "source": [
        "### 📦 Installing and Importing Essential Libraries"
      ],
      "metadata": {
        "id": "h93WQmIIb6g1"
      }
    },
    {
      "cell_type": "code",
      "execution_count": null,
      "metadata": {
        "id": "fYYO6lOp5VTa"
      },
      "outputs": [],
      "source": [
        "!pip install pandas networkx py2neo &>/dev/null"
      ]
    },
    {
      "cell_type": "code",
      "source": [
        "import pandas as pd\n",
        "from py2neo import Graph, Node, Relationship\n",
        "import networkx as nx\n",
        "import matplotlib.pyplot as plt"
      ],
      "metadata": {
        "id": "8OLnB0aH6u2Y"
      },
      "execution_count": null,
      "outputs": []
    },
    {
      "cell_type": "code",
      "source": [
        "# Warning control\n",
        "import warnings\n",
        "warnings.filterwarnings('ignore')"
      ],
      "metadata": {
        "id": "tCPInK1WzxK-"
      },
      "execution_count": null,
      "outputs": []
    },
    {
      "cell_type": "markdown",
      "source": [
        "### 🌐 Setting Up and Connecting to Neo4j using Neo4j Aura"
      ],
      "metadata": {
        "id": "0YRU0uCrl2Ko"
      }
    },
    {
      "cell_type": "markdown",
      "source": [
        "To get started with Neo4j in the cloud, follow these simple steps:\n",
        "\n",
        "1. Go to [Neo4j Aura](https://neo4j.com/product/auradb/).\n",
        "2. Select the **Start Free** (perfect for small projects).\n",
        "3. Create an account or sign in if you already have one.\n",
        "3. Click on **\"Create instance\"** to start a new instance.\n",
        "4. Once your instance is created, make sure to note the **URI** and **Credentials** (username and password). You'll need these to connect to the database later!"
      ],
      "metadata": {
        "id": "3IIM9gV40hlc"
      }
    },
    {
      "cell_type": "code",
      "source": [
        "NEO4J_URI = \"neo4j+s://<your_neo4j_uri>\"\n",
        "NEO4J_USERNAME = \"<your_username>\"\n",
        "NEO4J_PASSWORD = \"<your_password>\""
      ],
      "metadata": {
        "id": "b1Vr52t_FY3S"
      },
      "execution_count": null,
      "outputs": []
    },
    {
      "cell_type": "markdown",
      "source": [
        "Now, connect to Neo4j Aura instance\n",
        "\n"
      ],
      "metadata": {
        "id": "rDTZqvbIaRDz"
      }
    },
    {
      "cell_type": "code",
      "source": [
        "graph = Graph(NEO4J_URI, auth=(NEO4J_USERNAME, NEO4J_PASSWORD))\n",
        "print(\"Connected to Neo4j Aura instance.\")"
      ],
      "metadata": {
        "colab": {
          "base_uri": "https://localhost:8080/"
        },
        "id": "c2vDvPZl8uca",
        "outputId": "4b21c7f3-5852-40f1-f9af-f10cdae96376"
      },
      "execution_count": null,
      "outputs": [
        {
          "output_type": "stream",
          "name": "stdout",
          "text": [
            "Connected to Neo4j Aura instance.\n"
          ]
        }
      ]
    },
    {
      "cell_type": "markdown",
      "source": [
        "## 03. Dataset Overview"
      ],
      "metadata": {
        "id": "ABJWDPF_56AB"
      }
    },
    {
      "cell_type": "markdown",
      "source": [
        "Our dataset is **synthetic** 🤖, generated using AI to create realistic user preferences and flower characteristics 🌸. It features flower species from the renowed *Oxford 102 dataset* .\n",
        "\n",
        "The data is neatly organized in the `recommendation system dataset/` folder 📂.\n"
      ],
      "metadata": {
        "id": "31KocIq041eO"
      }
    },
    {
      "cell_type": "code",
      "source": [
        "data='recommendation system dataset/'"
      ],
      "metadata": {
        "id": "5fDXcuhC6hMb"
      },
      "execution_count": null,
      "outputs": []
    },
    {
      "cell_type": "markdown",
      "source": [
        "The dataset is organized as follows:\n",
        "\n",
        "- 🌹 `flowers.txt`: Details about the flowers such as species ID, name, color, fragrance, symbolism, environment, and more.\n",
        "- 👤 `users_preferences.txt`: User preferences, including favorite flower IDs, preferred colors, scent preferences, and gardening experience.\n",
        "- ⭐ `flower_ratings.txt`: User interactions with flowers, including ratings and feedback."
      ],
      "metadata": {
        "id": "2Y2qI7pg56Xg"
      }
    },
    {
      "cell_type": "markdown",
      "source": [
        "💐 Loading and preprocessing flower species data, filling missing fragrance info with \"Unscented\""
      ],
      "metadata": {
        "id": "MwD-H1zZ9tK2"
      }
    },
    {
      "cell_type": "code",
      "source": [
        "flower_species = pd.read_csv(f'{data}/flowers.txt', sep=\"::\")\n",
        "\n",
        "# Filling missing values in the 'Fragrance' column with 'Unscented'\n",
        "flower_species['Fragrance'] = flower_species['Fragrance'].fillna('Unscented')\n",
        "\n",
        "display(flower_species.head(5))\n",
        "print(f\"Flower Species: {len(flower_species)}\")"
      ],
      "metadata": {
        "colab": {
          "base_uri": "https://localhost:8080/",
          "height": 328
        },
        "id": "US4dvHiF6mXf",
        "outputId": "d1f4d3af-2880-4750-d9e9-83f992505712"
      },
      "execution_count": null,
      "outputs": [
        {
          "output_type": "display_data",
          "data": {
            "text/plain": [
              "   Species ID              Name         Color  Flower Shape  Fragrance  \\\n",
              "0          21         fire lily   Red, Orange  Trumpet-like       Mild   \n",
              "1           3  canterbury bells  Blue, Purple   Bell-shaped       Mild   \n",
              "2          45  bolero deep blue     Deep Blue     Star-like  Unscented   \n",
              "3           1     pink primrose          Pink       Rosette      Sweet   \n",
              "4          34     mexican aster   Pink, White    Daisy-like  Unscented   \n",
              "\n",
              "                 Symbolism                      Uses              Environment  \\\n",
              "0          Passion, Energy   Decoration, Landscaping          Tropical, Humid   \n",
              "1    Gratitude, Admiration  Bouquets, Garden Borders  Temperate, Well-drained   \n",
              "2        Mystery, Calmness   Cut Flowers, Decoration       Cool, Well-drained   \n",
              "3  Youth, Everlasting Love     Ground Cover, Borders         Temperate, Moist   \n",
              "4           Innocence, Joy  Cut Flowers, Landscaping           Dry, Temperate   \n",
              "\n",
              "  Blooming Season Gardening Experience Level Watering Needs  \\\n",
              "0          Summer               Intermediate         Medium   \n",
              "1  Spring, Summer                   Beginner         Medium   \n",
              "2          Summer                   Beginner         Medium   \n",
              "3          Spring                   Beginner            Low   \n",
              "4    Summer, Fall                   Beginner            Low   \n",
              "\n",
              "      Light Requirements Indoor/Outdoor Suitability Pet Friendly  \n",
              "0               Full Sun                    Outdoor           No  \n",
              "1     Partial Sun, Shade             Indoor/Outdoor          Yes  \n",
              "2  Full Sun, Partial Sun                    Outdoor          Yes  \n",
              "3  Full Sun, Partial Sun             Indoor/Outdoor          Yes  \n",
              "4               Full Sun                    Outdoor          Yes  "
            ],
            "text/html": [
              "\n",
              "  <div id=\"df-d33d2800-f861-4526-a351-0209a29a91ce\" class=\"colab-df-container\">\n",
              "    <div>\n",
              "<style scoped>\n",
              "    .dataframe tbody tr th:only-of-type {\n",
              "        vertical-align: middle;\n",
              "    }\n",
              "\n",
              "    .dataframe tbody tr th {\n",
              "        vertical-align: top;\n",
              "    }\n",
              "\n",
              "    .dataframe thead th {\n",
              "        text-align: right;\n",
              "    }\n",
              "</style>\n",
              "<table border=\"1\" class=\"dataframe\">\n",
              "  <thead>\n",
              "    <tr style=\"text-align: right;\">\n",
              "      <th></th>\n",
              "      <th>Species ID</th>\n",
              "      <th>Name</th>\n",
              "      <th>Color</th>\n",
              "      <th>Flower Shape</th>\n",
              "      <th>Fragrance</th>\n",
              "      <th>Symbolism</th>\n",
              "      <th>Uses</th>\n",
              "      <th>Environment</th>\n",
              "      <th>Blooming Season</th>\n",
              "      <th>Gardening Experience Level</th>\n",
              "      <th>Watering Needs</th>\n",
              "      <th>Light Requirements</th>\n",
              "      <th>Indoor/Outdoor Suitability</th>\n",
              "      <th>Pet Friendly</th>\n",
              "    </tr>\n",
              "  </thead>\n",
              "  <tbody>\n",
              "    <tr>\n",
              "      <th>0</th>\n",
              "      <td>21</td>\n",
              "      <td>fire lily</td>\n",
              "      <td>Red, Orange</td>\n",
              "      <td>Trumpet-like</td>\n",
              "      <td>Mild</td>\n",
              "      <td>Passion, Energy</td>\n",
              "      <td>Decoration, Landscaping</td>\n",
              "      <td>Tropical, Humid</td>\n",
              "      <td>Summer</td>\n",
              "      <td>Intermediate</td>\n",
              "      <td>Medium</td>\n",
              "      <td>Full Sun</td>\n",
              "      <td>Outdoor</td>\n",
              "      <td>No</td>\n",
              "    </tr>\n",
              "    <tr>\n",
              "      <th>1</th>\n",
              "      <td>3</td>\n",
              "      <td>canterbury bells</td>\n",
              "      <td>Blue, Purple</td>\n",
              "      <td>Bell-shaped</td>\n",
              "      <td>Mild</td>\n",
              "      <td>Gratitude, Admiration</td>\n",
              "      <td>Bouquets, Garden Borders</td>\n",
              "      <td>Temperate, Well-drained</td>\n",
              "      <td>Spring, Summer</td>\n",
              "      <td>Beginner</td>\n",
              "      <td>Medium</td>\n",
              "      <td>Partial Sun, Shade</td>\n",
              "      <td>Indoor/Outdoor</td>\n",
              "      <td>Yes</td>\n",
              "    </tr>\n",
              "    <tr>\n",
              "      <th>2</th>\n",
              "      <td>45</td>\n",
              "      <td>bolero deep blue</td>\n",
              "      <td>Deep Blue</td>\n",
              "      <td>Star-like</td>\n",
              "      <td>Unscented</td>\n",
              "      <td>Mystery, Calmness</td>\n",
              "      <td>Cut Flowers, Decoration</td>\n",
              "      <td>Cool, Well-drained</td>\n",
              "      <td>Summer</td>\n",
              "      <td>Beginner</td>\n",
              "      <td>Medium</td>\n",
              "      <td>Full Sun, Partial Sun</td>\n",
              "      <td>Outdoor</td>\n",
              "      <td>Yes</td>\n",
              "    </tr>\n",
              "    <tr>\n",
              "      <th>3</th>\n",
              "      <td>1</td>\n",
              "      <td>pink primrose</td>\n",
              "      <td>Pink</td>\n",
              "      <td>Rosette</td>\n",
              "      <td>Sweet</td>\n",
              "      <td>Youth, Everlasting Love</td>\n",
              "      <td>Ground Cover, Borders</td>\n",
              "      <td>Temperate, Moist</td>\n",
              "      <td>Spring</td>\n",
              "      <td>Beginner</td>\n",
              "      <td>Low</td>\n",
              "      <td>Full Sun, Partial Sun</td>\n",
              "      <td>Indoor/Outdoor</td>\n",
              "      <td>Yes</td>\n",
              "    </tr>\n",
              "    <tr>\n",
              "      <th>4</th>\n",
              "      <td>34</td>\n",
              "      <td>mexican aster</td>\n",
              "      <td>Pink, White</td>\n",
              "      <td>Daisy-like</td>\n",
              "      <td>Unscented</td>\n",
              "      <td>Innocence, Joy</td>\n",
              "      <td>Cut Flowers, Landscaping</td>\n",
              "      <td>Dry, Temperate</td>\n",
              "      <td>Summer, Fall</td>\n",
              "      <td>Beginner</td>\n",
              "      <td>Low</td>\n",
              "      <td>Full Sun</td>\n",
              "      <td>Outdoor</td>\n",
              "      <td>Yes</td>\n",
              "    </tr>\n",
              "  </tbody>\n",
              "</table>\n",
              "</div>\n",
              "    <div class=\"colab-df-buttons\">\n",
              "\n",
              "  <div class=\"colab-df-container\">\n",
              "    <button class=\"colab-df-convert\" onclick=\"convertToInteractive('df-d33d2800-f861-4526-a351-0209a29a91ce')\"\n",
              "            title=\"Convert this dataframe to an interactive table.\"\n",
              "            style=\"display:none;\">\n",
              "\n",
              "  <svg xmlns=\"http://www.w3.org/2000/svg\" height=\"24px\" viewBox=\"0 -960 960 960\">\n",
              "    <path d=\"M120-120v-720h720v720H120Zm60-500h600v-160H180v160Zm220 220h160v-160H400v160Zm0 220h160v-160H400v160ZM180-400h160v-160H180v160Zm440 0h160v-160H620v160ZM180-180h160v-160H180v160Zm440 0h160v-160H620v160Z\"/>\n",
              "  </svg>\n",
              "    </button>\n",
              "\n",
              "  <style>\n",
              "    .colab-df-container {\n",
              "      display:flex;\n",
              "      gap: 12px;\n",
              "    }\n",
              "\n",
              "    .colab-df-convert {\n",
              "      background-color: #E8F0FE;\n",
              "      border: none;\n",
              "      border-radius: 50%;\n",
              "      cursor: pointer;\n",
              "      display: none;\n",
              "      fill: #1967D2;\n",
              "      height: 32px;\n",
              "      padding: 0 0 0 0;\n",
              "      width: 32px;\n",
              "    }\n",
              "\n",
              "    .colab-df-convert:hover {\n",
              "      background-color: #E2EBFA;\n",
              "      box-shadow: 0px 1px 2px rgba(60, 64, 67, 0.3), 0px 1px 3px 1px rgba(60, 64, 67, 0.15);\n",
              "      fill: #174EA6;\n",
              "    }\n",
              "\n",
              "    .colab-df-buttons div {\n",
              "      margin-bottom: 4px;\n",
              "    }\n",
              "\n",
              "    [theme=dark] .colab-df-convert {\n",
              "      background-color: #3B4455;\n",
              "      fill: #D2E3FC;\n",
              "    }\n",
              "\n",
              "    [theme=dark] .colab-df-convert:hover {\n",
              "      background-color: #434B5C;\n",
              "      box-shadow: 0px 1px 3px 1px rgba(0, 0, 0, 0.15);\n",
              "      filter: drop-shadow(0px 1px 2px rgba(0, 0, 0, 0.3));\n",
              "      fill: #FFFFFF;\n",
              "    }\n",
              "  </style>\n",
              "\n",
              "    <script>\n",
              "      const buttonEl =\n",
              "        document.querySelector('#df-d33d2800-f861-4526-a351-0209a29a91ce button.colab-df-convert');\n",
              "      buttonEl.style.display =\n",
              "        google.colab.kernel.accessAllowed ? 'block' : 'none';\n",
              "\n",
              "      async function convertToInteractive(key) {\n",
              "        const element = document.querySelector('#df-d33d2800-f861-4526-a351-0209a29a91ce');\n",
              "        const dataTable =\n",
              "          await google.colab.kernel.invokeFunction('convertToInteractive',\n",
              "                                                    [key], {});\n",
              "        if (!dataTable) return;\n",
              "\n",
              "        const docLinkHtml = 'Like what you see? Visit the ' +\n",
              "          '<a target=\"_blank\" href=https://colab.research.google.com/notebooks/data_table.ipynb>data table notebook</a>'\n",
              "          + ' to learn more about interactive tables.';\n",
              "        element.innerHTML = '';\n",
              "        dataTable['output_type'] = 'display_data';\n",
              "        await google.colab.output.renderOutput(dataTable, element);\n",
              "        const docLink = document.createElement('div');\n",
              "        docLink.innerHTML = docLinkHtml;\n",
              "        element.appendChild(docLink);\n",
              "      }\n",
              "    </script>\n",
              "  </div>\n",
              "\n",
              "\n",
              "<div id=\"df-a8c3ada7-9560-4116-84f8-7f2e9ed1ac62\">\n",
              "  <button class=\"colab-df-quickchart\" onclick=\"quickchart('df-a8c3ada7-9560-4116-84f8-7f2e9ed1ac62')\"\n",
              "            title=\"Suggest charts\"\n",
              "            style=\"display:none;\">\n",
              "\n",
              "<svg xmlns=\"http://www.w3.org/2000/svg\" height=\"24px\"viewBox=\"0 0 24 24\"\n",
              "     width=\"24px\">\n",
              "    <g>\n",
              "        <path d=\"M19 3H5c-1.1 0-2 .9-2 2v14c0 1.1.9 2 2 2h14c1.1 0 2-.9 2-2V5c0-1.1-.9-2-2-2zM9 17H7v-7h2v7zm4 0h-2V7h2v10zm4 0h-2v-4h2v4z\"/>\n",
              "    </g>\n",
              "</svg>\n",
              "  </button>\n",
              "\n",
              "<style>\n",
              "  .colab-df-quickchart {\n",
              "      --bg-color: #E8F0FE;\n",
              "      --fill-color: #1967D2;\n",
              "      --hover-bg-color: #E2EBFA;\n",
              "      --hover-fill-color: #174EA6;\n",
              "      --disabled-fill-color: #AAA;\n",
              "      --disabled-bg-color: #DDD;\n",
              "  }\n",
              "\n",
              "  [theme=dark] .colab-df-quickchart {\n",
              "      --bg-color: #3B4455;\n",
              "      --fill-color: #D2E3FC;\n",
              "      --hover-bg-color: #434B5C;\n",
              "      --hover-fill-color: #FFFFFF;\n",
              "      --disabled-bg-color: #3B4455;\n",
              "      --disabled-fill-color: #666;\n",
              "  }\n",
              "\n",
              "  .colab-df-quickchart {\n",
              "    background-color: var(--bg-color);\n",
              "    border: none;\n",
              "    border-radius: 50%;\n",
              "    cursor: pointer;\n",
              "    display: none;\n",
              "    fill: var(--fill-color);\n",
              "    height: 32px;\n",
              "    padding: 0;\n",
              "    width: 32px;\n",
              "  }\n",
              "\n",
              "  .colab-df-quickchart:hover {\n",
              "    background-color: var(--hover-bg-color);\n",
              "    box-shadow: 0 1px 2px rgba(60, 64, 67, 0.3), 0 1px 3px 1px rgba(60, 64, 67, 0.15);\n",
              "    fill: var(--button-hover-fill-color);\n",
              "  }\n",
              "\n",
              "  .colab-df-quickchart-complete:disabled,\n",
              "  .colab-df-quickchart-complete:disabled:hover {\n",
              "    background-color: var(--disabled-bg-color);\n",
              "    fill: var(--disabled-fill-color);\n",
              "    box-shadow: none;\n",
              "  }\n",
              "\n",
              "  .colab-df-spinner {\n",
              "    border: 2px solid var(--fill-color);\n",
              "    border-color: transparent;\n",
              "    border-bottom-color: var(--fill-color);\n",
              "    animation:\n",
              "      spin 1s steps(1) infinite;\n",
              "  }\n",
              "\n",
              "  @keyframes spin {\n",
              "    0% {\n",
              "      border-color: transparent;\n",
              "      border-bottom-color: var(--fill-color);\n",
              "      border-left-color: var(--fill-color);\n",
              "    }\n",
              "    20% {\n",
              "      border-color: transparent;\n",
              "      border-left-color: var(--fill-color);\n",
              "      border-top-color: var(--fill-color);\n",
              "    }\n",
              "    30% {\n",
              "      border-color: transparent;\n",
              "      border-left-color: var(--fill-color);\n",
              "      border-top-color: var(--fill-color);\n",
              "      border-right-color: var(--fill-color);\n",
              "    }\n",
              "    40% {\n",
              "      border-color: transparent;\n",
              "      border-right-color: var(--fill-color);\n",
              "      border-top-color: var(--fill-color);\n",
              "    }\n",
              "    60% {\n",
              "      border-color: transparent;\n",
              "      border-right-color: var(--fill-color);\n",
              "    }\n",
              "    80% {\n",
              "      border-color: transparent;\n",
              "      border-right-color: var(--fill-color);\n",
              "      border-bottom-color: var(--fill-color);\n",
              "    }\n",
              "    90% {\n",
              "      border-color: transparent;\n",
              "      border-bottom-color: var(--fill-color);\n",
              "    }\n",
              "  }\n",
              "</style>\n",
              "\n",
              "  <script>\n",
              "    async function quickchart(key) {\n",
              "      const quickchartButtonEl =\n",
              "        document.querySelector('#' + key + ' button');\n",
              "      quickchartButtonEl.disabled = true;  // To prevent multiple clicks.\n",
              "      quickchartButtonEl.classList.add('colab-df-spinner');\n",
              "      try {\n",
              "        const charts = await google.colab.kernel.invokeFunction(\n",
              "            'suggestCharts', [key], {});\n",
              "      } catch (error) {\n",
              "        console.error('Error during call to suggestCharts:', error);\n",
              "      }\n",
              "      quickchartButtonEl.classList.remove('colab-df-spinner');\n",
              "      quickchartButtonEl.classList.add('colab-df-quickchart-complete');\n",
              "    }\n",
              "    (() => {\n",
              "      let quickchartButtonEl =\n",
              "        document.querySelector('#df-a8c3ada7-9560-4116-84f8-7f2e9ed1ac62 button');\n",
              "      quickchartButtonEl.style.display =\n",
              "        google.colab.kernel.accessAllowed ? 'block' : 'none';\n",
              "    })();\n",
              "  </script>\n",
              "</div>\n",
              "\n",
              "    </div>\n",
              "  </div>\n"
            ],
            "application/vnd.google.colaboratory.intrinsic+json": {
              "type": "dataframe",
              "summary": "{\n  \"name\": \"print(f\\\"Flower Species: {len(flower_species)}\\\")\",\n  \"rows\": 5,\n  \"fields\": [\n    {\n      \"column\": \"Species ID\",\n      \"properties\": {\n        \"dtype\": \"number\",\n        \"std\": 19,\n        \"min\": 1,\n        \"max\": 45,\n        \"num_unique_values\": 5,\n        \"samples\": [\n          3,\n          34,\n          45\n        ],\n        \"semantic_type\": \"\",\n        \"description\": \"\"\n      }\n    },\n    {\n      \"column\": \"Name\",\n      \"properties\": {\n        \"dtype\": \"string\",\n        \"num_unique_values\": 5,\n        \"samples\": [\n          \"canterbury bells\",\n          \"mexican aster\",\n          \"bolero deep blue\"\n        ],\n        \"semantic_type\": \"\",\n        \"description\": \"\"\n      }\n    },\n    {\n      \"column\": \"Color\",\n      \"properties\": {\n        \"dtype\": \"string\",\n        \"num_unique_values\": 5,\n        \"samples\": [\n          \"Blue, Purple\",\n          \"Pink, White\",\n          \"Deep Blue\"\n        ],\n        \"semantic_type\": \"\",\n        \"description\": \"\"\n      }\n    },\n    {\n      \"column\": \"Flower Shape\",\n      \"properties\": {\n        \"dtype\": \"string\",\n        \"num_unique_values\": 5,\n        \"samples\": [\n          \"Bell-shaped\",\n          \"Daisy-like\",\n          \"Star-like\"\n        ],\n        \"semantic_type\": \"\",\n        \"description\": \"\"\n      }\n    },\n    {\n      \"column\": \"Fragrance\",\n      \"properties\": {\n        \"dtype\": \"string\",\n        \"num_unique_values\": 3,\n        \"samples\": [\n          \"Mild\",\n          \"Unscented\",\n          \"Sweet\"\n        ],\n        \"semantic_type\": \"\",\n        \"description\": \"\"\n      }\n    },\n    {\n      \"column\": \"Symbolism\",\n      \"properties\": {\n        \"dtype\": \"string\",\n        \"num_unique_values\": 5,\n        \"samples\": [\n          \"Gratitude, Admiration\",\n          \"Innocence, Joy\",\n          \"Mystery, Calmness\"\n        ],\n        \"semantic_type\": \"\",\n        \"description\": \"\"\n      }\n    },\n    {\n      \"column\": \"Uses\",\n      \"properties\": {\n        \"dtype\": \"string\",\n        \"num_unique_values\": 5,\n        \"samples\": [\n          \"Bouquets, Garden Borders\",\n          \"Cut Flowers, Landscaping\",\n          \"Cut Flowers, Decoration\"\n        ],\n        \"semantic_type\": \"\",\n        \"description\": \"\"\n      }\n    },\n    {\n      \"column\": \"Environment\",\n      \"properties\": {\n        \"dtype\": \"string\",\n        \"num_unique_values\": 5,\n        \"samples\": [\n          \"Temperate, Well-drained\",\n          \"Dry, Temperate\",\n          \"Cool, Well-drained\"\n        ],\n        \"semantic_type\": \"\",\n        \"description\": \"\"\n      }\n    },\n    {\n      \"column\": \"Blooming Season\",\n      \"properties\": {\n        \"dtype\": \"string\",\n        \"num_unique_values\": 4,\n        \"samples\": [\n          \"Spring, Summer\",\n          \"Summer, Fall\",\n          \"Summer\"\n        ],\n        \"semantic_type\": \"\",\n        \"description\": \"\"\n      }\n    },\n    {\n      \"column\": \"Gardening Experience Level\",\n      \"properties\": {\n        \"dtype\": \"category\",\n        \"num_unique_values\": 2,\n        \"samples\": [\n          \"Beginner\",\n          \"Intermediate\"\n        ],\n        \"semantic_type\": \"\",\n        \"description\": \"\"\n      }\n    },\n    {\n      \"column\": \"Watering Needs\",\n      \"properties\": {\n        \"dtype\": \"category\",\n        \"num_unique_values\": 2,\n        \"samples\": [\n          \"Low\",\n          \"Medium\"\n        ],\n        \"semantic_type\": \"\",\n        \"description\": \"\"\n      }\n    },\n    {\n      \"column\": \"Light Requirements\",\n      \"properties\": {\n        \"dtype\": \"string\",\n        \"num_unique_values\": 3,\n        \"samples\": [\n          \"Full Sun\",\n          \"Partial Sun, Shade\"\n        ],\n        \"semantic_type\": \"\",\n        \"description\": \"\"\n      }\n    },\n    {\n      \"column\": \"Indoor/Outdoor Suitability\",\n      \"properties\": {\n        \"dtype\": \"category\",\n        \"num_unique_values\": 2,\n        \"samples\": [\n          \"Indoor/Outdoor\",\n          \"Outdoor\"\n        ],\n        \"semantic_type\": \"\",\n        \"description\": \"\"\n      }\n    },\n    {\n      \"column\": \"Pet Friendly\",\n      \"properties\": {\n        \"dtype\": \"category\",\n        \"num_unique_values\": 2,\n        \"samples\": [\n          \"Yes\",\n          \"No\"\n        ],\n        \"semantic_type\": \"\",\n        \"description\": \"\"\n      }\n    }\n  ]\n}"
            }
          },
          "metadata": {}
        },
        {
          "output_type": "stream",
          "name": "stdout",
          "text": [
            "Flower Species: 102\n"
          ]
        }
      ]
    },
    {
      "cell_type": "code",
      "source": [
        "print(flower_species.dtypes)"
      ],
      "metadata": {
        "colab": {
          "base_uri": "https://localhost:8080/"
        },
        "id": "i4E3efBPR5Y4",
        "outputId": "ea548d77-4b06-4fa2-b1a5-43b9117a43e4"
      },
      "execution_count": null,
      "outputs": [
        {
          "output_type": "stream",
          "name": "stdout",
          "text": [
            "Species ID                     int64\n",
            "Name                          object\n",
            "Color                         object\n",
            "Flower Shape                  object\n",
            "Fragrance                     object\n",
            "Symbolism                     object\n",
            "Uses                          object\n",
            "Environment                   object\n",
            "Blooming Season               object\n",
            "Gardening Experience Level    object\n",
            "Watering Needs                object\n",
            "Light Requirements            object\n",
            "Indoor/Outdoor Suitability    object\n",
            "Pet Friendly                  object\n",
            "dtype: object\n"
          ]
        }
      ]
    },
    {
      "cell_type": "markdown",
      "source": [
        "🙍 Loading user preferences data, handling missing scent preferences and cleaning favorite flower IDs\n",
        "\n"
      ],
      "metadata": {
        "id": "pHR4tPTS-JOr"
      }
    },
    {
      "cell_type": "code",
      "source": [
        "users_preferences = pd.read_csv(f'{data}/users_preferences.txt', sep=\"::\")\n",
        "\n",
        "# Filling missing values in the 'Scent_Preference' column with 'Unscented'\n",
        "users_preferences['Scent_Preference'] = users_preferences['Scent_Preference'].fillna('Unscented')\n",
        "# Replacig commas with ', ' in the 'Favorite_Flower_IDs' column\n",
        "users_preferences['Favorite_Flower_IDs'] = users_preferences['Favorite_Flower_IDs'].str.replace(',', ', ')\n",
        "\n",
        "display(users_preferences.head(5))\n",
        "print(f\"Number of users: {len(users_preferences)}\")"
      ],
      "metadata": {
        "colab": {
          "base_uri": "https://localhost:8080/",
          "height": 224
        },
        "id": "YIZyvWUUkRtC",
        "outputId": "9be3031b-6e4d-4607-f297-61a87e0395cb"
      },
      "execution_count": null,
      "outputs": [
        {
          "output_type": "display_data",
          "data": {
            "text/plain": [
              "  User_ID Favorite_Flower_IDs Preferred_Colors Scent_Preference  \\\n",
              "0    U001              73, 82      Pink, White        Unscented   \n",
              "1    U002           6, 39, 31             Blue            Spicy   \n",
              "2    U003   3, 24, 93, 7, 102              Red            Spicy   \n",
              "3    U004          72, 77, 88           Orange            Sweet   \n",
              "4    U005       42, 89, 3, 77        Blue, Red        Unscented   \n",
              "\n",
              "             Purpose  Indoor/Outdoor Have Pets Gardening Experience  \\\n",
              "0        Cut Flowers  Indoor/Outdoor        No             Beginner   \n",
              "1        Cut Flowers  Indoor/Outdoor        No             Beginner   \n",
              "2         Decoration          Indoor       Yes         Intermediate   \n",
              "3     Unique Gardens          Indoor       Yes               Expert   \n",
              "4  Indoor Decoration          Indoor        No               Expert   \n",
              "\n",
              "  Maintenance Difficulty Level  \n",
              "0                       Medium  \n",
              "1                         High  \n",
              "2                         High  \n",
              "3                          Low  \n",
              "4                         High  "
            ],
            "text/html": [
              "\n",
              "  <div id=\"df-0ddc5d5d-3662-4dc5-a44d-7a528eee90bf\" class=\"colab-df-container\">\n",
              "    <div>\n",
              "<style scoped>\n",
              "    .dataframe tbody tr th:only-of-type {\n",
              "        vertical-align: middle;\n",
              "    }\n",
              "\n",
              "    .dataframe tbody tr th {\n",
              "        vertical-align: top;\n",
              "    }\n",
              "\n",
              "    .dataframe thead th {\n",
              "        text-align: right;\n",
              "    }\n",
              "</style>\n",
              "<table border=\"1\" class=\"dataframe\">\n",
              "  <thead>\n",
              "    <tr style=\"text-align: right;\">\n",
              "      <th></th>\n",
              "      <th>User_ID</th>\n",
              "      <th>Favorite_Flower_IDs</th>\n",
              "      <th>Preferred_Colors</th>\n",
              "      <th>Scent_Preference</th>\n",
              "      <th>Purpose</th>\n",
              "      <th>Indoor/Outdoor</th>\n",
              "      <th>Have Pets</th>\n",
              "      <th>Gardening Experience</th>\n",
              "      <th>Maintenance Difficulty Level</th>\n",
              "    </tr>\n",
              "  </thead>\n",
              "  <tbody>\n",
              "    <tr>\n",
              "      <th>0</th>\n",
              "      <td>U001</td>\n",
              "      <td>73, 82</td>\n",
              "      <td>Pink, White</td>\n",
              "      <td>Unscented</td>\n",
              "      <td>Cut Flowers</td>\n",
              "      <td>Indoor/Outdoor</td>\n",
              "      <td>No</td>\n",
              "      <td>Beginner</td>\n",
              "      <td>Medium</td>\n",
              "    </tr>\n",
              "    <tr>\n",
              "      <th>1</th>\n",
              "      <td>U002</td>\n",
              "      <td>6, 39, 31</td>\n",
              "      <td>Blue</td>\n",
              "      <td>Spicy</td>\n",
              "      <td>Cut Flowers</td>\n",
              "      <td>Indoor/Outdoor</td>\n",
              "      <td>No</td>\n",
              "      <td>Beginner</td>\n",
              "      <td>High</td>\n",
              "    </tr>\n",
              "    <tr>\n",
              "      <th>2</th>\n",
              "      <td>U003</td>\n",
              "      <td>3, 24, 93, 7, 102</td>\n",
              "      <td>Red</td>\n",
              "      <td>Spicy</td>\n",
              "      <td>Decoration</td>\n",
              "      <td>Indoor</td>\n",
              "      <td>Yes</td>\n",
              "      <td>Intermediate</td>\n",
              "      <td>High</td>\n",
              "    </tr>\n",
              "    <tr>\n",
              "      <th>3</th>\n",
              "      <td>U004</td>\n",
              "      <td>72, 77, 88</td>\n",
              "      <td>Orange</td>\n",
              "      <td>Sweet</td>\n",
              "      <td>Unique Gardens</td>\n",
              "      <td>Indoor</td>\n",
              "      <td>Yes</td>\n",
              "      <td>Expert</td>\n",
              "      <td>Low</td>\n",
              "    </tr>\n",
              "    <tr>\n",
              "      <th>4</th>\n",
              "      <td>U005</td>\n",
              "      <td>42, 89, 3, 77</td>\n",
              "      <td>Blue, Red</td>\n",
              "      <td>Unscented</td>\n",
              "      <td>Indoor Decoration</td>\n",
              "      <td>Indoor</td>\n",
              "      <td>No</td>\n",
              "      <td>Expert</td>\n",
              "      <td>High</td>\n",
              "    </tr>\n",
              "  </tbody>\n",
              "</table>\n",
              "</div>\n",
              "    <div class=\"colab-df-buttons\">\n",
              "\n",
              "  <div class=\"colab-df-container\">\n",
              "    <button class=\"colab-df-convert\" onclick=\"convertToInteractive('df-0ddc5d5d-3662-4dc5-a44d-7a528eee90bf')\"\n",
              "            title=\"Convert this dataframe to an interactive table.\"\n",
              "            style=\"display:none;\">\n",
              "\n",
              "  <svg xmlns=\"http://www.w3.org/2000/svg\" height=\"24px\" viewBox=\"0 -960 960 960\">\n",
              "    <path d=\"M120-120v-720h720v720H120Zm60-500h600v-160H180v160Zm220 220h160v-160H400v160Zm0 220h160v-160H400v160ZM180-400h160v-160H180v160Zm440 0h160v-160H620v160ZM180-180h160v-160H180v160Zm440 0h160v-160H620v160Z\"/>\n",
              "  </svg>\n",
              "    </button>\n",
              "\n",
              "  <style>\n",
              "    .colab-df-container {\n",
              "      display:flex;\n",
              "      gap: 12px;\n",
              "    }\n",
              "\n",
              "    .colab-df-convert {\n",
              "      background-color: #E8F0FE;\n",
              "      border: none;\n",
              "      border-radius: 50%;\n",
              "      cursor: pointer;\n",
              "      display: none;\n",
              "      fill: #1967D2;\n",
              "      height: 32px;\n",
              "      padding: 0 0 0 0;\n",
              "      width: 32px;\n",
              "    }\n",
              "\n",
              "    .colab-df-convert:hover {\n",
              "      background-color: #E2EBFA;\n",
              "      box-shadow: 0px 1px 2px rgba(60, 64, 67, 0.3), 0px 1px 3px 1px rgba(60, 64, 67, 0.15);\n",
              "      fill: #174EA6;\n",
              "    }\n",
              "\n",
              "    .colab-df-buttons div {\n",
              "      margin-bottom: 4px;\n",
              "    }\n",
              "\n",
              "    [theme=dark] .colab-df-convert {\n",
              "      background-color: #3B4455;\n",
              "      fill: #D2E3FC;\n",
              "    }\n",
              "\n",
              "    [theme=dark] .colab-df-convert:hover {\n",
              "      background-color: #434B5C;\n",
              "      box-shadow: 0px 1px 3px 1px rgba(0, 0, 0, 0.15);\n",
              "      filter: drop-shadow(0px 1px 2px rgba(0, 0, 0, 0.3));\n",
              "      fill: #FFFFFF;\n",
              "    }\n",
              "  </style>\n",
              "\n",
              "    <script>\n",
              "      const buttonEl =\n",
              "        document.querySelector('#df-0ddc5d5d-3662-4dc5-a44d-7a528eee90bf button.colab-df-convert');\n",
              "      buttonEl.style.display =\n",
              "        google.colab.kernel.accessAllowed ? 'block' : 'none';\n",
              "\n",
              "      async function convertToInteractive(key) {\n",
              "        const element = document.querySelector('#df-0ddc5d5d-3662-4dc5-a44d-7a528eee90bf');\n",
              "        const dataTable =\n",
              "          await google.colab.kernel.invokeFunction('convertToInteractive',\n",
              "                                                    [key], {});\n",
              "        if (!dataTable) return;\n",
              "\n",
              "        const docLinkHtml = 'Like what you see? Visit the ' +\n",
              "          '<a target=\"_blank\" href=https://colab.research.google.com/notebooks/data_table.ipynb>data table notebook</a>'\n",
              "          + ' to learn more about interactive tables.';\n",
              "        element.innerHTML = '';\n",
              "        dataTable['output_type'] = 'display_data';\n",
              "        await google.colab.output.renderOutput(dataTable, element);\n",
              "        const docLink = document.createElement('div');\n",
              "        docLink.innerHTML = docLinkHtml;\n",
              "        element.appendChild(docLink);\n",
              "      }\n",
              "    </script>\n",
              "  </div>\n",
              "\n",
              "\n",
              "<div id=\"df-bc7beaef-776f-4280-bf38-1c8d1144d070\">\n",
              "  <button class=\"colab-df-quickchart\" onclick=\"quickchart('df-bc7beaef-776f-4280-bf38-1c8d1144d070')\"\n",
              "            title=\"Suggest charts\"\n",
              "            style=\"display:none;\">\n",
              "\n",
              "<svg xmlns=\"http://www.w3.org/2000/svg\" height=\"24px\"viewBox=\"0 0 24 24\"\n",
              "     width=\"24px\">\n",
              "    <g>\n",
              "        <path d=\"M19 3H5c-1.1 0-2 .9-2 2v14c0 1.1.9 2 2 2h14c1.1 0 2-.9 2-2V5c0-1.1-.9-2-2-2zM9 17H7v-7h2v7zm4 0h-2V7h2v10zm4 0h-2v-4h2v4z\"/>\n",
              "    </g>\n",
              "</svg>\n",
              "  </button>\n",
              "\n",
              "<style>\n",
              "  .colab-df-quickchart {\n",
              "      --bg-color: #E8F0FE;\n",
              "      --fill-color: #1967D2;\n",
              "      --hover-bg-color: #E2EBFA;\n",
              "      --hover-fill-color: #174EA6;\n",
              "      --disabled-fill-color: #AAA;\n",
              "      --disabled-bg-color: #DDD;\n",
              "  }\n",
              "\n",
              "  [theme=dark] .colab-df-quickchart {\n",
              "      --bg-color: #3B4455;\n",
              "      --fill-color: #D2E3FC;\n",
              "      --hover-bg-color: #434B5C;\n",
              "      --hover-fill-color: #FFFFFF;\n",
              "      --disabled-bg-color: #3B4455;\n",
              "      --disabled-fill-color: #666;\n",
              "  }\n",
              "\n",
              "  .colab-df-quickchart {\n",
              "    background-color: var(--bg-color);\n",
              "    border: none;\n",
              "    border-radius: 50%;\n",
              "    cursor: pointer;\n",
              "    display: none;\n",
              "    fill: var(--fill-color);\n",
              "    height: 32px;\n",
              "    padding: 0;\n",
              "    width: 32px;\n",
              "  }\n",
              "\n",
              "  .colab-df-quickchart:hover {\n",
              "    background-color: var(--hover-bg-color);\n",
              "    box-shadow: 0 1px 2px rgba(60, 64, 67, 0.3), 0 1px 3px 1px rgba(60, 64, 67, 0.15);\n",
              "    fill: var(--button-hover-fill-color);\n",
              "  }\n",
              "\n",
              "  .colab-df-quickchart-complete:disabled,\n",
              "  .colab-df-quickchart-complete:disabled:hover {\n",
              "    background-color: var(--disabled-bg-color);\n",
              "    fill: var(--disabled-fill-color);\n",
              "    box-shadow: none;\n",
              "  }\n",
              "\n",
              "  .colab-df-spinner {\n",
              "    border: 2px solid var(--fill-color);\n",
              "    border-color: transparent;\n",
              "    border-bottom-color: var(--fill-color);\n",
              "    animation:\n",
              "      spin 1s steps(1) infinite;\n",
              "  }\n",
              "\n",
              "  @keyframes spin {\n",
              "    0% {\n",
              "      border-color: transparent;\n",
              "      border-bottom-color: var(--fill-color);\n",
              "      border-left-color: var(--fill-color);\n",
              "    }\n",
              "    20% {\n",
              "      border-color: transparent;\n",
              "      border-left-color: var(--fill-color);\n",
              "      border-top-color: var(--fill-color);\n",
              "    }\n",
              "    30% {\n",
              "      border-color: transparent;\n",
              "      border-left-color: var(--fill-color);\n",
              "      border-top-color: var(--fill-color);\n",
              "      border-right-color: var(--fill-color);\n",
              "    }\n",
              "    40% {\n",
              "      border-color: transparent;\n",
              "      border-right-color: var(--fill-color);\n",
              "      border-top-color: var(--fill-color);\n",
              "    }\n",
              "    60% {\n",
              "      border-color: transparent;\n",
              "      border-right-color: var(--fill-color);\n",
              "    }\n",
              "    80% {\n",
              "      border-color: transparent;\n",
              "      border-right-color: var(--fill-color);\n",
              "      border-bottom-color: var(--fill-color);\n",
              "    }\n",
              "    90% {\n",
              "      border-color: transparent;\n",
              "      border-bottom-color: var(--fill-color);\n",
              "    }\n",
              "  }\n",
              "</style>\n",
              "\n",
              "  <script>\n",
              "    async function quickchart(key) {\n",
              "      const quickchartButtonEl =\n",
              "        document.querySelector('#' + key + ' button');\n",
              "      quickchartButtonEl.disabled = true;  // To prevent multiple clicks.\n",
              "      quickchartButtonEl.classList.add('colab-df-spinner');\n",
              "      try {\n",
              "        const charts = await google.colab.kernel.invokeFunction(\n",
              "            'suggestCharts', [key], {});\n",
              "      } catch (error) {\n",
              "        console.error('Error during call to suggestCharts:', error);\n",
              "      }\n",
              "      quickchartButtonEl.classList.remove('colab-df-spinner');\n",
              "      quickchartButtonEl.classList.add('colab-df-quickchart-complete');\n",
              "    }\n",
              "    (() => {\n",
              "      let quickchartButtonEl =\n",
              "        document.querySelector('#df-bc7beaef-776f-4280-bf38-1c8d1144d070 button');\n",
              "      quickchartButtonEl.style.display =\n",
              "        google.colab.kernel.accessAllowed ? 'block' : 'none';\n",
              "    })();\n",
              "  </script>\n",
              "</div>\n",
              "\n",
              "    </div>\n",
              "  </div>\n"
            ],
            "application/vnd.google.colaboratory.intrinsic+json": {
              "type": "dataframe",
              "summary": "{\n  \"name\": \"print(f\\\"Number of users: {len(users_preferences)}\\\")\",\n  \"rows\": 5,\n  \"fields\": [\n    {\n      \"column\": \"User_ID\",\n      \"properties\": {\n        \"dtype\": \"string\",\n        \"num_unique_values\": 5,\n        \"samples\": [\n          \"U002\",\n          \"U005\",\n          \"U003\"\n        ],\n        \"semantic_type\": \"\",\n        \"description\": \"\"\n      }\n    },\n    {\n      \"column\": \"Favorite_Flower_IDs\",\n      \"properties\": {\n        \"dtype\": \"string\",\n        \"num_unique_values\": 5,\n        \"samples\": [\n          \"6, 39, 31\",\n          \"42, 89, 3, 77\",\n          \"3, 24, 93, 7, 102\"\n        ],\n        \"semantic_type\": \"\",\n        \"description\": \"\"\n      }\n    },\n    {\n      \"column\": \"Preferred_Colors\",\n      \"properties\": {\n        \"dtype\": \"string\",\n        \"num_unique_values\": 5,\n        \"samples\": [\n          \"Blue\",\n          \"Blue, Red\",\n          \"Red\"\n        ],\n        \"semantic_type\": \"\",\n        \"description\": \"\"\n      }\n    },\n    {\n      \"column\": \"Scent_Preference\",\n      \"properties\": {\n        \"dtype\": \"string\",\n        \"num_unique_values\": 3,\n        \"samples\": [\n          \"Unscented\",\n          \"Spicy\",\n          \"Sweet\"\n        ],\n        \"semantic_type\": \"\",\n        \"description\": \"\"\n      }\n    },\n    {\n      \"column\": \"Purpose\",\n      \"properties\": {\n        \"dtype\": \"string\",\n        \"num_unique_values\": 4,\n        \"samples\": [\n          \"Decoration\",\n          \"Indoor Decoration\",\n          \"Cut Flowers\"\n        ],\n        \"semantic_type\": \"\",\n        \"description\": \"\"\n      }\n    },\n    {\n      \"column\": \"Indoor/Outdoor\",\n      \"properties\": {\n        \"dtype\": \"category\",\n        \"num_unique_values\": 2,\n        \"samples\": [\n          \"Indoor\",\n          \"Indoor/Outdoor\"\n        ],\n        \"semantic_type\": \"\",\n        \"description\": \"\"\n      }\n    },\n    {\n      \"column\": \"Have Pets\",\n      \"properties\": {\n        \"dtype\": \"category\",\n        \"num_unique_values\": 2,\n        \"samples\": [\n          \"Yes\",\n          \"No\"\n        ],\n        \"semantic_type\": \"\",\n        \"description\": \"\"\n      }\n    },\n    {\n      \"column\": \"Gardening Experience\",\n      \"properties\": {\n        \"dtype\": \"string\",\n        \"num_unique_values\": 3,\n        \"samples\": [\n          \"Beginner\",\n          \"Intermediate\"\n        ],\n        \"semantic_type\": \"\",\n        \"description\": \"\"\n      }\n    },\n    {\n      \"column\": \"Maintenance Difficulty Level\",\n      \"properties\": {\n        \"dtype\": \"string\",\n        \"num_unique_values\": 3,\n        \"samples\": [\n          \"Medium\",\n          \"High\"\n        ],\n        \"semantic_type\": \"\",\n        \"description\": \"\"\n      }\n    }\n  ]\n}"
            }
          },
          "metadata": {}
        },
        {
          "output_type": "stream",
          "name": "stdout",
          "text": [
            "Number of users: 100\n"
          ]
        }
      ]
    },
    {
      "cell_type": "markdown",
      "source": [
        "🌟 Loading flower ratings data and displaying interaction details\n"
      ],
      "metadata": {
        "id": "giGTFPZy-MIP"
      }
    },
    {
      "cell_type": "code",
      "source": [
        "flower_ratings = pd.read_csv(f'{data}/flower_ratings.txt', sep=\"::\")\n",
        "\n",
        "display(flower_ratings.head(5))\n",
        "print(f\"Number of interactions: {len(flower_ratings)}\")"
      ],
      "metadata": {
        "colab": {
          "base_uri": "https://localhost:8080/",
          "height": 224
        },
        "id": "GSpzwqCkp5Jf",
        "outputId": "807ba291-78d7-45db-d4e6-d66ed4f61357"
      },
      "execution_count": null,
      "outputs": [
        {
          "output_type": "display_data",
          "data": {
            "text/plain": [
              "  Interaction_ID User_ID  Flower_ID   Interaction_Type  Rating  \\\n",
              "0           I001    U001         73             Viewed       4   \n",
              "1           I002    U002          6              Liked       5   \n",
              "2           I003    U003         93          Purchased       5   \n",
              "3           I004    U004         72  Added to Wishlist       4   \n",
              "4           I005    U005         77             Viewed       3   \n",
              "\n",
              "             Timestamp                         Feedback  \n",
              "0  2024-12-01 10:15:32         \"Loved the pink petals.\"  \n",
              "1  2024-12-02 14:23:45        \"Spicy scent is perfect.\"  \n",
              "2  2024-12-03 16:05:12  \"Great for spicy-themed decor.\"  \n",
              "3  2024-12-04 08:30:45       \"Orange color stands out!\"  \n",
              "4  2024-12-05 12:00:20     \"Prefer other blue flowers.\"  "
            ],
            "text/html": [
              "\n",
              "  <div id=\"df-c3f3a691-ec98-41e6-a8ab-8a34010370db\" class=\"colab-df-container\">\n",
              "    <div>\n",
              "<style scoped>\n",
              "    .dataframe tbody tr th:only-of-type {\n",
              "        vertical-align: middle;\n",
              "    }\n",
              "\n",
              "    .dataframe tbody tr th {\n",
              "        vertical-align: top;\n",
              "    }\n",
              "\n",
              "    .dataframe thead th {\n",
              "        text-align: right;\n",
              "    }\n",
              "</style>\n",
              "<table border=\"1\" class=\"dataframe\">\n",
              "  <thead>\n",
              "    <tr style=\"text-align: right;\">\n",
              "      <th></th>\n",
              "      <th>Interaction_ID</th>\n",
              "      <th>User_ID</th>\n",
              "      <th>Flower_ID</th>\n",
              "      <th>Interaction_Type</th>\n",
              "      <th>Rating</th>\n",
              "      <th>Timestamp</th>\n",
              "      <th>Feedback</th>\n",
              "    </tr>\n",
              "  </thead>\n",
              "  <tbody>\n",
              "    <tr>\n",
              "      <th>0</th>\n",
              "      <td>I001</td>\n",
              "      <td>U001</td>\n",
              "      <td>73</td>\n",
              "      <td>Viewed</td>\n",
              "      <td>4</td>\n",
              "      <td>2024-12-01 10:15:32</td>\n",
              "      <td>\"Loved the pink petals.\"</td>\n",
              "    </tr>\n",
              "    <tr>\n",
              "      <th>1</th>\n",
              "      <td>I002</td>\n",
              "      <td>U002</td>\n",
              "      <td>6</td>\n",
              "      <td>Liked</td>\n",
              "      <td>5</td>\n",
              "      <td>2024-12-02 14:23:45</td>\n",
              "      <td>\"Spicy scent is perfect.\"</td>\n",
              "    </tr>\n",
              "    <tr>\n",
              "      <th>2</th>\n",
              "      <td>I003</td>\n",
              "      <td>U003</td>\n",
              "      <td>93</td>\n",
              "      <td>Purchased</td>\n",
              "      <td>5</td>\n",
              "      <td>2024-12-03 16:05:12</td>\n",
              "      <td>\"Great for spicy-themed decor.\"</td>\n",
              "    </tr>\n",
              "    <tr>\n",
              "      <th>3</th>\n",
              "      <td>I004</td>\n",
              "      <td>U004</td>\n",
              "      <td>72</td>\n",
              "      <td>Added to Wishlist</td>\n",
              "      <td>4</td>\n",
              "      <td>2024-12-04 08:30:45</td>\n",
              "      <td>\"Orange color stands out!\"</td>\n",
              "    </tr>\n",
              "    <tr>\n",
              "      <th>4</th>\n",
              "      <td>I005</td>\n",
              "      <td>U005</td>\n",
              "      <td>77</td>\n",
              "      <td>Viewed</td>\n",
              "      <td>3</td>\n",
              "      <td>2024-12-05 12:00:20</td>\n",
              "      <td>\"Prefer other blue flowers.\"</td>\n",
              "    </tr>\n",
              "  </tbody>\n",
              "</table>\n",
              "</div>\n",
              "    <div class=\"colab-df-buttons\">\n",
              "\n",
              "  <div class=\"colab-df-container\">\n",
              "    <button class=\"colab-df-convert\" onclick=\"convertToInteractive('df-c3f3a691-ec98-41e6-a8ab-8a34010370db')\"\n",
              "            title=\"Convert this dataframe to an interactive table.\"\n",
              "            style=\"display:none;\">\n",
              "\n",
              "  <svg xmlns=\"http://www.w3.org/2000/svg\" height=\"24px\" viewBox=\"0 -960 960 960\">\n",
              "    <path d=\"M120-120v-720h720v720H120Zm60-500h600v-160H180v160Zm220 220h160v-160H400v160Zm0 220h160v-160H400v160ZM180-400h160v-160H180v160Zm440 0h160v-160H620v160ZM180-180h160v-160H180v160Zm440 0h160v-160H620v160Z\"/>\n",
              "  </svg>\n",
              "    </button>\n",
              "\n",
              "  <style>\n",
              "    .colab-df-container {\n",
              "      display:flex;\n",
              "      gap: 12px;\n",
              "    }\n",
              "\n",
              "    .colab-df-convert {\n",
              "      background-color: #E8F0FE;\n",
              "      border: none;\n",
              "      border-radius: 50%;\n",
              "      cursor: pointer;\n",
              "      display: none;\n",
              "      fill: #1967D2;\n",
              "      height: 32px;\n",
              "      padding: 0 0 0 0;\n",
              "      width: 32px;\n",
              "    }\n",
              "\n",
              "    .colab-df-convert:hover {\n",
              "      background-color: #E2EBFA;\n",
              "      box-shadow: 0px 1px 2px rgba(60, 64, 67, 0.3), 0px 1px 3px 1px rgba(60, 64, 67, 0.15);\n",
              "      fill: #174EA6;\n",
              "    }\n",
              "\n",
              "    .colab-df-buttons div {\n",
              "      margin-bottom: 4px;\n",
              "    }\n",
              "\n",
              "    [theme=dark] .colab-df-convert {\n",
              "      background-color: #3B4455;\n",
              "      fill: #D2E3FC;\n",
              "    }\n",
              "\n",
              "    [theme=dark] .colab-df-convert:hover {\n",
              "      background-color: #434B5C;\n",
              "      box-shadow: 0px 1px 3px 1px rgba(0, 0, 0, 0.15);\n",
              "      filter: drop-shadow(0px 1px 2px rgba(0, 0, 0, 0.3));\n",
              "      fill: #FFFFFF;\n",
              "    }\n",
              "  </style>\n",
              "\n",
              "    <script>\n",
              "      const buttonEl =\n",
              "        document.querySelector('#df-c3f3a691-ec98-41e6-a8ab-8a34010370db button.colab-df-convert');\n",
              "      buttonEl.style.display =\n",
              "        google.colab.kernel.accessAllowed ? 'block' : 'none';\n",
              "\n",
              "      async function convertToInteractive(key) {\n",
              "        const element = document.querySelector('#df-c3f3a691-ec98-41e6-a8ab-8a34010370db');\n",
              "        const dataTable =\n",
              "          await google.colab.kernel.invokeFunction('convertToInteractive',\n",
              "                                                    [key], {});\n",
              "        if (!dataTable) return;\n",
              "\n",
              "        const docLinkHtml = 'Like what you see? Visit the ' +\n",
              "          '<a target=\"_blank\" href=https://colab.research.google.com/notebooks/data_table.ipynb>data table notebook</a>'\n",
              "          + ' to learn more about interactive tables.';\n",
              "        element.innerHTML = '';\n",
              "        dataTable['output_type'] = 'display_data';\n",
              "        await google.colab.output.renderOutput(dataTable, element);\n",
              "        const docLink = document.createElement('div');\n",
              "        docLink.innerHTML = docLinkHtml;\n",
              "        element.appendChild(docLink);\n",
              "      }\n",
              "    </script>\n",
              "  </div>\n",
              "\n",
              "\n",
              "<div id=\"df-0d396b1a-6ac8-4bd2-a1f9-b82fc982c0de\">\n",
              "  <button class=\"colab-df-quickchart\" onclick=\"quickchart('df-0d396b1a-6ac8-4bd2-a1f9-b82fc982c0de')\"\n",
              "            title=\"Suggest charts\"\n",
              "            style=\"display:none;\">\n",
              "\n",
              "<svg xmlns=\"http://www.w3.org/2000/svg\" height=\"24px\"viewBox=\"0 0 24 24\"\n",
              "     width=\"24px\">\n",
              "    <g>\n",
              "        <path d=\"M19 3H5c-1.1 0-2 .9-2 2v14c0 1.1.9 2 2 2h14c1.1 0 2-.9 2-2V5c0-1.1-.9-2-2-2zM9 17H7v-7h2v7zm4 0h-2V7h2v10zm4 0h-2v-4h2v4z\"/>\n",
              "    </g>\n",
              "</svg>\n",
              "  </button>\n",
              "\n",
              "<style>\n",
              "  .colab-df-quickchart {\n",
              "      --bg-color: #E8F0FE;\n",
              "      --fill-color: #1967D2;\n",
              "      --hover-bg-color: #E2EBFA;\n",
              "      --hover-fill-color: #174EA6;\n",
              "      --disabled-fill-color: #AAA;\n",
              "      --disabled-bg-color: #DDD;\n",
              "  }\n",
              "\n",
              "  [theme=dark] .colab-df-quickchart {\n",
              "      --bg-color: #3B4455;\n",
              "      --fill-color: #D2E3FC;\n",
              "      --hover-bg-color: #434B5C;\n",
              "      --hover-fill-color: #FFFFFF;\n",
              "      --disabled-bg-color: #3B4455;\n",
              "      --disabled-fill-color: #666;\n",
              "  }\n",
              "\n",
              "  .colab-df-quickchart {\n",
              "    background-color: var(--bg-color);\n",
              "    border: none;\n",
              "    border-radius: 50%;\n",
              "    cursor: pointer;\n",
              "    display: none;\n",
              "    fill: var(--fill-color);\n",
              "    height: 32px;\n",
              "    padding: 0;\n",
              "    width: 32px;\n",
              "  }\n",
              "\n",
              "  .colab-df-quickchart:hover {\n",
              "    background-color: var(--hover-bg-color);\n",
              "    box-shadow: 0 1px 2px rgba(60, 64, 67, 0.3), 0 1px 3px 1px rgba(60, 64, 67, 0.15);\n",
              "    fill: var(--button-hover-fill-color);\n",
              "  }\n",
              "\n",
              "  .colab-df-quickchart-complete:disabled,\n",
              "  .colab-df-quickchart-complete:disabled:hover {\n",
              "    background-color: var(--disabled-bg-color);\n",
              "    fill: var(--disabled-fill-color);\n",
              "    box-shadow: none;\n",
              "  }\n",
              "\n",
              "  .colab-df-spinner {\n",
              "    border: 2px solid var(--fill-color);\n",
              "    border-color: transparent;\n",
              "    border-bottom-color: var(--fill-color);\n",
              "    animation:\n",
              "      spin 1s steps(1) infinite;\n",
              "  }\n",
              "\n",
              "  @keyframes spin {\n",
              "    0% {\n",
              "      border-color: transparent;\n",
              "      border-bottom-color: var(--fill-color);\n",
              "      border-left-color: var(--fill-color);\n",
              "    }\n",
              "    20% {\n",
              "      border-color: transparent;\n",
              "      border-left-color: var(--fill-color);\n",
              "      border-top-color: var(--fill-color);\n",
              "    }\n",
              "    30% {\n",
              "      border-color: transparent;\n",
              "      border-left-color: var(--fill-color);\n",
              "      border-top-color: var(--fill-color);\n",
              "      border-right-color: var(--fill-color);\n",
              "    }\n",
              "    40% {\n",
              "      border-color: transparent;\n",
              "      border-right-color: var(--fill-color);\n",
              "      border-top-color: var(--fill-color);\n",
              "    }\n",
              "    60% {\n",
              "      border-color: transparent;\n",
              "      border-right-color: var(--fill-color);\n",
              "    }\n",
              "    80% {\n",
              "      border-color: transparent;\n",
              "      border-right-color: var(--fill-color);\n",
              "      border-bottom-color: var(--fill-color);\n",
              "    }\n",
              "    90% {\n",
              "      border-color: transparent;\n",
              "      border-bottom-color: var(--fill-color);\n",
              "    }\n",
              "  }\n",
              "</style>\n",
              "\n",
              "  <script>\n",
              "    async function quickchart(key) {\n",
              "      const quickchartButtonEl =\n",
              "        document.querySelector('#' + key + ' button');\n",
              "      quickchartButtonEl.disabled = true;  // To prevent multiple clicks.\n",
              "      quickchartButtonEl.classList.add('colab-df-spinner');\n",
              "      try {\n",
              "        const charts = await google.colab.kernel.invokeFunction(\n",
              "            'suggestCharts', [key], {});\n",
              "      } catch (error) {\n",
              "        console.error('Error during call to suggestCharts:', error);\n",
              "      }\n",
              "      quickchartButtonEl.classList.remove('colab-df-spinner');\n",
              "      quickchartButtonEl.classList.add('colab-df-quickchart-complete');\n",
              "    }\n",
              "    (() => {\n",
              "      let quickchartButtonEl =\n",
              "        document.querySelector('#df-0d396b1a-6ac8-4bd2-a1f9-b82fc982c0de button');\n",
              "      quickchartButtonEl.style.display =\n",
              "        google.colab.kernel.accessAllowed ? 'block' : 'none';\n",
              "    })();\n",
              "  </script>\n",
              "</div>\n",
              "\n",
              "    </div>\n",
              "  </div>\n"
            ],
            "application/vnd.google.colaboratory.intrinsic+json": {
              "type": "dataframe",
              "summary": "{\n  \"name\": \"print(f\\\"Number of interactions: {len(flower_ratings)}\\\")\",\n  \"rows\": 5,\n  \"fields\": [\n    {\n      \"column\": \"Interaction_ID\",\n      \"properties\": {\n        \"dtype\": \"string\",\n        \"num_unique_values\": 5,\n        \"samples\": [\n          \"I002\",\n          \"I005\",\n          \"I003\"\n        ],\n        \"semantic_type\": \"\",\n        \"description\": \"\"\n      }\n    },\n    {\n      \"column\": \"User_ID\",\n      \"properties\": {\n        \"dtype\": \"string\",\n        \"num_unique_values\": 5,\n        \"samples\": [\n          \"U002\",\n          \"U005\",\n          \"U003\"\n        ],\n        \"semantic_type\": \"\",\n        \"description\": \"\"\n      }\n    },\n    {\n      \"column\": \"Flower_ID\",\n      \"properties\": {\n        \"dtype\": \"number\",\n        \"std\": 33,\n        \"min\": 6,\n        \"max\": 93,\n        \"num_unique_values\": 5,\n        \"samples\": [\n          6,\n          77,\n          93\n        ],\n        \"semantic_type\": \"\",\n        \"description\": \"\"\n      }\n    },\n    {\n      \"column\": \"Interaction_Type\",\n      \"properties\": {\n        \"dtype\": \"string\",\n        \"num_unique_values\": 4,\n        \"samples\": [\n          \"Liked\",\n          \"Added to Wishlist\",\n          \"Viewed\"\n        ],\n        \"semantic_type\": \"\",\n        \"description\": \"\"\n      }\n    },\n    {\n      \"column\": \"Rating\",\n      \"properties\": {\n        \"dtype\": \"number\",\n        \"std\": 0,\n        \"min\": 3,\n        \"max\": 5,\n        \"num_unique_values\": 3,\n        \"samples\": [\n          4,\n          5,\n          3\n        ],\n        \"semantic_type\": \"\",\n        \"description\": \"\"\n      }\n    },\n    {\n      \"column\": \"Timestamp\",\n      \"properties\": {\n        \"dtype\": \"object\",\n        \"num_unique_values\": 5,\n        \"samples\": [\n          \"2024-12-02 14:23:45\",\n          \"2024-12-05 12:00:20\",\n          \"2024-12-03 16:05:12\"\n        ],\n        \"semantic_type\": \"\",\n        \"description\": \"\"\n      }\n    },\n    {\n      \"column\": \"Feedback\",\n      \"properties\": {\n        \"dtype\": \"string\",\n        \"num_unique_values\": 5,\n        \"samples\": [\n          \"\\\"Spicy scent is perfect.\\\"\",\n          \"\\\"Prefer other blue flowers.\\\"\",\n          \"\\\"Great for spicy-themed decor.\\\"\"\n        ],\n        \"semantic_type\": \"\",\n        \"description\": \"\"\n      }\n    }\n  ]\n}"
            }
          },
          "metadata": {}
        },
        {
          "output_type": "stream",
          "name": "stdout",
          "text": [
            "Number of interactions: 400\n"
          ]
        }
      ]
    },
    {
      "cell_type": "markdown",
      "source": [
        "## 04. Building the Knowledge Graph"
      ],
      "metadata": {
        "id": "mKjSpNxF_9-g"
      }
    },
    {
      "cell_type": "markdown",
      "source": [
        "⏰ This will take a few minutes to run"
      ],
      "metadata": {
        "id": "LE0ocK5bJi7g"
      }
    },
    {
      "cell_type": "markdown",
      "source": [
        "### 🕸️ Processing flower characteristics to populate the Neo4j graph with nodes and relationships\n"
      ],
      "metadata": {
        "id": "PQvobw8iHun3"
      }
    },
    {
      "cell_type": "markdown",
      "source": [
        "⚠️ The columns *Color*, *Environment*, *Blooming Season*, and *Light Requirements* may contain multiple values for a single species."
      ],
      "metadata": {
        "id": "pgdFyJxaTHk5"
      }
    },
    {
      "cell_type": "code",
      "source": [
        "for _, row in flower_species.iterrows():\n",
        "    # Creating a Species node\n",
        "    species_node = Node(\"Species\", name=row['Name'], id=row['Species ID'])\n",
        "    graph.merge(species_node, \"Species\", \"id\")\n",
        "\n",
        "    # Creating Color nodes and relationships to the Species node\n",
        "    for color in row['Color'].split(', '):\n",
        "        color_node = Node(\"Color\", name=color)\n",
        "        graph.merge(color_node, \"Color\", \"name\") # Merge ensures unique colors\n",
        "        graph.merge(Relationship(species_node, \"HAS_COLOR\", color_node))\n",
        "\n",
        "    # Creating Environment nodes and relationships to the Species node\n",
        "    for env in row['Environment'].split(', '):\n",
        "        env_node = Node(\"Environment\", name=env)\n",
        "        graph.merge(env_node, \"Environment\", \"name\")\n",
        "        graph.merge(Relationship(species_node, \"THRIVES_IN\", env_node))\n",
        "\n",
        "    # Creating Blooming Season nodes and relationships to the Species node\n",
        "    for season in row['Blooming Season'].split(', '):\n",
        "      season_node = Node(\"BloomingSeason\", name=season)\n",
        "      graph.merge(season_node, \"BloomingSeason\", \"name\")\n",
        "      graph.merge(Relationship(species_node, \"BLOOMS_IN\", season_node))\n",
        "\n",
        "    # Creating Light Requirement nodes and relationships to the Species node\n",
        "    for light in row['Light Requirements'].split(', '):\n",
        "      light_node = Node(\"LightRequirement\", name=light)\n",
        "      graph.merge(light_node, \"LightRequirement\", \"name\")\n",
        "      graph.merge(Relationship(species_node, \"REQUIRES_LIGHT\", light_node))\n",
        "\n",
        "    # Creating Fragrance nodes and relationships to the Species node\n",
        "    fragrance_node = Node(\"Fragrance\", name=row[\"Fragrance\"])\n",
        "    graph.merge(fragrance_node, \"Fragrance\", \"name\")\n",
        "    graph.merge(Relationship(species_node, \"HAS_FRAGRANCE\", fragrance_node))\n",
        "\n",
        "    # Creating Gardening Experience nodes and relationships to the Species node\n",
        "    experience_node = Node(\"ExperienceLevel\", name=row[\"Gardening Experience Level\"])\n",
        "    graph.merge(experience_node, \"ExperienceLevel\", \"name\")\n",
        "    graph.merge(Relationship(species_node, \"REQUIRES_EXPERIENCE\", experience_node))\n",
        "\n",
        "    # Creating Indoor/Outdoor Suitability nodes and relationships to the Species node\n",
        "    suitability_node = Node(\"Suitability\", name=row[\"Indoor/Outdoor Suitability\"])\n",
        "    graph.merge(suitability_node, \"Suitability\", \"name\")\n",
        "    graph.merge(Relationship(species_node, \"SUITABLE_FOR\", suitability_node))\n",
        "\n",
        "    # Adding additional attributes as properties to the Species node\n",
        "    species_node[\"Flower_Shape\"] = row[\"Flower Shape\"]\n",
        "    species_node[\"Symbolism\"] = row[\"Symbolism\"]\n",
        "    species_node[\"Uses\"] = row[\"Uses\"]\n",
        "    species_node[\"Pet_Friendly\"] = row[\"Pet Friendly\"]\n",
        "\n",
        "    # Pushing the species node with its properties into the graph\n",
        "    graph.push(species_node)\n"
      ],
      "metadata": {
        "id": "tandrSqfMB7o"
      },
      "execution_count": null,
      "outputs": []
    },
    {
      "cell_type": "markdown",
      "source": [
        "### 👤 Creating User Nodes with Preferences and Properties in the KG\n"
      ],
      "metadata": {
        "id": "mbA7Xe2gPGFY"
      }
    },
    {
      "cell_type": "code",
      "source": [
        "for _, row in users_preferences.iterrows():\n",
        "    # Initializing  User node\n",
        "    user_node = Node(\"User\", id=row['User_ID'])\n",
        "    graph.merge(user_node, \"User\", \"id\")\n",
        "\n",
        "    # Linking User nodes to their Preferred Colors\n",
        "    for color in map(str.strip, row['Preferred_Colors'].split(', ')):\n",
        "        color_node = graph.nodes.match(\"Color\", name=color).first()\n",
        "        if color_node:\n",
        "            graph.merge(Relationship(user_node, \"PREFERS_COLOR\", color_node))\n",
        "\n",
        "    # Connecting Scent Preference as Relationship to Fragrance nodes\n",
        "    fragrance_node = graph.nodes.match(\"Fragrance\", name=row['Scent_Preference']).first()\n",
        "    if fragrance_node:\n",
        "        graph.merge(Relationship(user_node, \"PREFERS_SCENT\", fragrance_node))\n",
        "\n",
        "    # Adding Suitability (Indoor/Outdoor) as Relationship\n",
        "    suitability_node = graph.nodes.match(\"Suitability\", name=row['Indoor/Outdoor']).first()\n",
        "    if suitability_node:\n",
        "        graph.merge(Relationship(user_node, \"SUITABLE_FOR\", suitability_node))\n",
        "\n",
        "    # Linking Favorite Flowers as Relationships to Species nodes\n",
        "    for flower_id in map(str.strip, row['Favorite_Flower_IDs'].split(', ')):\n",
        "        flower_id = int(flower_id)  # Converting Flower ID to Integer format to match Species ID\n",
        "        species_node = graph.nodes.match(\"Species\", id=flower_id).first()\n",
        "        if species_node:\n",
        "            graph.merge(Relationship(user_node, \"FAVORITE\", species_node))\n",
        "\n",
        "    # Adding Gardening Experience Level as Relationship\n",
        "    experience_node = graph.nodes.match(\"ExperienceLevel\", name=row['Gardening Experience']).first()\n",
        "    if experience_node:\n",
        "        graph.merge(Relationship(user_node, \"HAS_EXPERIENCE\", experience_node))\n",
        "\n",
        "    # Adding Purpose, Have Pets, Maintenance Difficulty Level as Properties\n",
        "    user_node[\"Purpose\"] = row['Purpose']\n",
        "    user_node[\"Have_Pets\"] = row['Have Pets']\n",
        "    user_node[\"Maintenance_Difficulty_Level\"] = row['Maintenance Difficulty Level']\n",
        "\n",
        "    # Persisting User node with all properties\n",
        "    graph.push(user_node)\n"
      ],
      "metadata": {
        "id": "jWlM9jryY-6a"
      },
      "execution_count": null,
      "outputs": []
    },
    {
      "cell_type": "markdown",
      "source": [
        "### 🔄 Iterating through the flower ratings and add ratings to the KG"
      ],
      "metadata": {
        "id": "5Z8kgky4PuBL"
      }
    },
    {
      "cell_type": "code",
      "source": [
        "for _, row in flower_ratings.iterrows():\n",
        "    user_node = graph.nodes.match(\"User\", id=row['User_ID']).first()\n",
        "    species_node = graph.nodes.match(\"Species\", id=row['Flower_ID']).first()\n",
        "\n",
        "    # Creating interaction relationship with rating and feedback as its properties\n",
        "    interaction = Relationship(user_node, \"RATED\", species_node)\n",
        "    interaction[\"rating\"] = row['Rating']\n",
        "    interaction[\"timestamp\"] = row['Timestamp']\n",
        "    interaction[\"feedback\"] = row['Feedback']\n",
        "    graph.merge(interaction)"
      ],
      "metadata": {
        "id": "_ERhq8rSY9ty"
      },
      "execution_count": null,
      "outputs": []
    },
    {
      "cell_type": "markdown",
      "source": [
        "## 05. Exploring the Knowledge Graph in Neo4j Aura"
      ],
      "metadata": {
        "id": "GQh0_FlKCAyo"
      }
    },
    {
      "cell_type": "markdown",
      "source": [
        "Once your Knowledge Graph is built, it's time to explore it in Neo4j Aura:\n",
        "\n",
        "1. Return to **Neo4j Aura** .\n",
        "2. Click on the **'Connect'** button in your instance and select **'Explore'** to enter the query interface.\n",
        "3. Use the following Cypher query to explore the graph.\n",
        "\n",
        "\n",
        "```cypher\n",
        "MATCH p=(s:Species)-[:THRIVES_IN]->(e:Environment {name: \"Tropical\"}),\n",
        "      q=(s)-[:BLOOMS_IN]->(b:BloomingSeason),\n",
        "      r=(s)-[:REQUIRES_LIGHT]->(l:LightRequirement)\n",
        "WHERE s.Pet_Friendly = \"Yes\" AND b.name IN [\"Spring\", \"Summer\"] AND l.name = \"Partial Sun\"\n",
        "RETURN p, q, r\n"
      ],
      "metadata": {
        "id": "STE-KZaykrrp"
      }
    },
    {
      "cell_type": "markdown",
      "source": [
        "🖼️ Once you run the query, you will see something like this:"
      ],
      "metadata": {
        "id": "JYnD6VfqPMBu"
      }
    },
    {
      "cell_type": "markdown",
      "source": [
        "![Neo4j Graph Result](https://drive.google.com/uc?export=view&id=1dwv3E7Lhf-KZueRujDWSI68D3B17IYco)"
      ],
      "metadata": {
        "id": "lMxQWAThJ9zv"
      }
    }
  ]
}